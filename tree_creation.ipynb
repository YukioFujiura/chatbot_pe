{
 "cells": [
  {
   "cell_type": "code",
   "execution_count": 200,
   "metadata": {},
   "outputs": [],
   "source": [
    "#Importação das bibliotecas necessárias\n",
    "import graphviz\n",
    "import pandas as pd\n",
    "\n",
    "from sklearn import tree\n",
    "from sklearn.metrics import accuracy_score \n",
    "from sklearn.model_selection import train_test_split "
   ]
  },
  {
   "cell_type": "code",
   "execution_count": 201,
   "metadata": {},
   "outputs": [],
   "source": [
    "#Método que irá gerar métrica para classificação das casas\n",
    "def house_class(n):\n",
    "    if (n<-0.5):\n",
    "        return 0\n",
    "    elif (n<0.5):\n",
    "        return 1\n",
    "    else:\n",
    "        return 2"
   ]
  },
  {
   "cell_type": "code",
   "execution_count": 202,
   "metadata": {},
   "outputs": [],
   "source": [
    "#Leitura do csv com as informações das casas\n",
    "data = pd.read_csv('kc_house_data.csv', sep=',')\n",
    "\n",
    "#print(data)"
   ]
  },
  {
   "cell_type": "code",
   "execution_count": 203,
   "metadata": {},
   "outputs": [],
   "source": [
    "#Filtragem dos dados pelo zipcode\n",
    "filtered_data = data.query('zipcode==98008')\n",
    "filtered_data = filtered_data.reset_index(drop=True)\n",
    "\n",
    "#print(filtered_data)"
   ]
  },
  {
   "cell_type": "code",
   "execution_count": 204,
   "metadata": {},
   "outputs": [],
   "source": [
    "#criando coluna com preço/metro²\n",
    "filtered_data ['price_sqft'] = filtered_data['price']/filtered_data['sqft_living']\n",
    "\n",
    "#print(filtered_data)"
   ]
  },
  {
   "cell_type": "code",
   "execution_count": 205,
   "metadata": {},
   "outputs": [],
   "source": [
    "#cálculo para zscore\n",
    "avg_prc = filtered_data['price_sqft'].mean()\n",
    "#print(avg_prc)\n",
    "std_prc = filtered_data['price_sqft'].std()\n",
    "#print(std_prc)\n",
    "\n",
    "zscore = (filtered_data['price_sqft'] - avg_prc) / std_prc\n",
    "\n",
    "#adicionando coluna do zscore\n",
    "filtered_data['zscore'] = zscore\n",
    "\n",
    "#print(filtered_data)"
   ]
  },
  {
   "cell_type": "code",
   "execution_count": 206,
   "metadata": {},
   "outputs": [],
   "source": [
    "#aplicando o zscore para criação da coluna de avaliação\n",
    "filtered_data['pricing'] = filtered_data['zscore'].apply(house_class)\n",
    "\n",
    "#print(filtered_data)\n",
    "\n",
    "#salva arquivo csv filtrado e tratado\n",
    "filtered_data.to_csv(r'filtered_data.csv', index=False)\n",
    "\n",
    "#lista dos 10 ultimos valores\n",
    "aval_data = filtered_data.tail(10)\n",
    "\n",
    "#print(aval_data)\n",
    "\n",
    "#salva arquivo csv\n",
    "aval_data.to_csv(r'aval_data.csv', index=False)"
   ]
  },
  {
   "cell_type": "code",
   "execution_count": 207,
   "metadata": {},
   "outputs": [
    {
     "name": "stdout",
     "output_type": "stream",
     "text": [
      ".dot gerado\n"
     ]
    }
   ],
   "source": [
    "#criação da árvore\n",
    "dec_tree = tree.DecisionTreeClassifier(min_samples_leaf=10, min_impurity_decrease=0.001, min_samples_split=20)\n",
    "x = filtered_data[['bedrooms', 'bathrooms', 'floors', 'view', 'condition']]\n",
    "y = filtered_data['pricing']\n",
    "x_train,x_test,y_train,y_test = train_test_split(x, y, test_size=0.2)\n",
    "dec_tree.fit(x_train, y_train)\n",
    "\n",
    "\n",
    "with open(\"decision_tree.dot\", 'w') as f:\n",
    "    f = tree.export_graphviz(dec_tree, out_file=f, feature_names=x.columns, rounded=True, filled=True, special_characters=True)\n",
    "print('.dot gerado')"
   ]
  },
  {
   "cell_type": "code",
   "execution_count": 208,
   "metadata": {},
   "outputs": [
    {
     "name": "stdout",
     "output_type": "stream",
     "text": [
      "0.543859649122807\n"
     ]
    }
   ],
   "source": [
    "#Teste de accuracy\n",
    "predictions=dec_tree.predict(x_test)\n",
    "print(accuracy_score(y_test,predictions))"
   ]
  },
  {
   "cell_type": "code",
   "execution_count": 209,
   "metadata": {},
   "outputs": [
    {
     "name": "stdout",
     "output_type": "stream",
     "text": [
      "[0, 1, 1, 1, 1, 2, 0, 2, 1, 2]\n",
      "[0, 2, 1, 1, 0, 2, 2, 2, 1, 2]\n"
     ]
    }
   ],
   "source": [
    "#Comparação das 10 últimas casas da lista\n",
    "\n",
    "predict = list(dec_tree.predict(x[-10:]))\n",
    "print(predict)\n",
    "\n",
    "ten_last = list(filtered_data['pricing'][-10:])\n",
    "print(ten_last)"
   ]
  }
 ],
 "metadata": {
  "kernelspec": {
   "display_name": "Python 3",
   "language": "python",
   "name": "python3"
  },
  "language_info": {
   "codemirror_mode": {
    "name": "ipython",
    "version": 3
   },
   "file_extension": ".py",
   "mimetype": "text/x-python",
   "name": "python",
   "nbconvert_exporter": "python",
   "pygments_lexer": "ipython3",
   "version": "3.8.3"
  }
 },
 "nbformat": 4,
 "nbformat_minor": 4
}
